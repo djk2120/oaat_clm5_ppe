{
 "cells": [
  {
   "cell_type": "markdown",
   "id": "9ac7f23b-d555-426f-bfd5-505c936eb64f",
   "metadata": {},
   "source": [
    "# Analyzing the influence of the \"FUN bug\" on the CLM5-PPE\n",
    "- Updated Sept 7, 2023\n",
    "- Daniel Kennedy, djk2120@ucar.edu"
   ]
  },
  {
   "cell_type": "code",
   "execution_count": 1,
   "id": "10d023b9-81d4-4a50-bc7d-6b198b171c94",
   "metadata": {},
   "outputs": [],
   "source": [
    "import numpy as np\n",
    "import pandas as pd\n",
    "import xarray as xr\n",
    "import glob\n",
    "import matplotlib.pyplot as plt\n",
    "import seaborn as sns"
   ]
  },
  {
   "cell_type": "markdown",
   "id": "883af448-c9a5-4345-a87c-5829242f9c42",
   "metadata": {},
   "source": [
    "## spin up some extra cores on CASPER"
   ]
  },
  {
   "cell_type": "code",
   "execution_count": 2,
   "id": "f5d78610-a245-423f-a2df-9c8b13439a89",
   "metadata": {},
   "outputs": [],
   "source": [
    "# Setup your PBSCluster\n",
    "import dask\n",
    "from dask_jobqueue import PBSCluster\n",
    "from dask.distributed import Client\n",
    "ncores=1\n",
    "nmem='10GB'\n",
    "cluster = PBSCluster(\n",
    "    cores=ncores, # The number of cores you want\n",
    "    memory=nmem, # Amount of memory\n",
    "    processes=1, # How many processes\n",
    "    queue='casper', # The type of queue to utilize (/glade/u/apps/dav/opt/usr/bin/execcasper)\n",
    "    local_directory='$TMPDIR', # Use your local directory\n",
    "    resource_spec='select=1:ncpus='+str(ncores)+':mem='+nmem, # Specify resources\n",
    "    account='P93300641', # Input your project ID here\n",
    "    walltime='00:25:00', # Amount of wall time\n",
    "    interface='ib0', # Interface to use\n",
    ")\n",
    "\n",
    "# Scale up\n",
    "cluster.scale(30)\n",
    "\n",
    "# Setup your client\n",
    "client = Client(cluster)"
   ]
  },
  {
   "cell_type": "code",
   "execution_count": 2,
   "id": "afefc3f6-6cd7-4512-ba77-673cf8e6063c",
   "metadata": {},
   "outputs": [],
   "source": [
    "from utils import *"
   ]
  },
  {
   "cell_type": "markdown",
   "id": "dd5f03a8-e549-4cb5-9d92-b1f47e9c6c98",
   "metadata": {},
   "source": [
    "### FUNbug in the OAAT"
   ]
  },
  {
   "cell_type": "code",
   "execution_count": 3,
   "id": "3f4d9944-1456-46fb-8f9b-d3db8525393a",
   "metadata": {},
   "outputs": [],
   "source": [
    "la=xr.open_dataset('sparsegrid_landarea.nc').landarea"
   ]
  },
  {
   "cell_type": "code",
   "execution_count": 50,
   "id": "5b73a79b-4e58-4b44-aad9-caa74f54a385",
   "metadata": {},
   "outputs": [],
   "source": [
    "files=['/glade/scratch/djk2120/PPEn11_CTL2010_FUNbug0001/run/PPEn11_CTL2010_FUNbug0001.clm2.h0.2005-02-01-00000.nc',\n",
    "       '/glade/campaign/asp/djk2120/PPEn11/CTL2010/n08/PPEn08_CTL2010_OAAT0000.clm2.h0.2005-02-01-00000.nc']"
   ]
  },
  {
   "cell_type": "code",
   "execution_count": 51,
   "id": "352fbbd3-5573-499d-b0ba-6f9a70dbae94",
   "metadata": {},
   "outputs": [],
   "source": [
    "dvs=['GPP','AR','HR','TLAI','TOTVEGC','TOTSOMC','EFLX_LH_TOT','SNOWDP','SOILWATER_10CM']\n",
    "ds=get_ds(files,['ens'],dvs=dvs)"
   ]
  },
  {
   "cell_type": "code",
   "execution_count": 52,
   "id": "2b545f69-1ecf-498c-ad29-5c9bfdbd67f4",
   "metadata": {},
   "outputs": [
    {
     "name": "stdout",
     "output_type": "stream",
     "text": [
      "GPP -3.6%\n",
      "AR -0.1%\n",
      "HR -8.2%\n",
      "TLAI -5.8%\n",
      "TOTVEGC -1.8%\n",
      "TOTSOMC -4.6%\n",
      "EFLX_LH_TOT -1.1%\n",
      "SNOWDP +0.0%\n",
      "SOILWATER_10CM +0.6%\n"
     ]
    }
   ],
   "source": [
    "for v in dvs:\n",
    "    x=gmean(amean(ds[v]),la).mean(dim='year')\n",
    "    dx=x[0]/x[1]\n",
    "    p=''\n",
    "    if dx>1:p='+'\n",
    "    print(v,p+str(np.round(100*dx.values-100,1))+'%')"
   ]
  },
  {
   "cell_type": "markdown",
   "id": "7d5cf028-af7f-4aff-a1b9-64a2143f134b",
   "metadata": {},
   "source": [
    "### FUNbug in the LHC"
   ]
  },
  {
   "cell_type": "code",
   "execution_count": 39,
   "id": "95ea94bb-bedc-4d95-9ddc-614cd6cae4f5",
   "metadata": {},
   "outputs": [],
   "source": [
    "files=['/glade/scratch/linnia/archive/PPEn11_transient_FUNbug0001/lnd/hist/PPEn11_transient_FUNbug0001.clm2.h0.2010-02-01-00000.nc',\n",
    "       '/glade/scratch/djk2120/PPEn11_transient_LHC0000/run/PPEn11_transient_LHC0000.clm2.h0.2010-02-01-00000.nc']"
   ]
  },
  {
   "cell_type": "code",
   "execution_count": 40,
   "id": "415325c2-ab48-4bac-b379-9f72c50b1e48",
   "metadata": {},
   "outputs": [],
   "source": [
    "dvs=['GPP','AR','HR','TLAI','TOTVEGC','TOTSOMC','EFLX_LH_TOT','SNOWDP','SOILWATER_10CM']\n",
    "ds=get_ds(files,['ens'],dvs=dvs)"
   ]
  },
  {
   "cell_type": "code",
   "execution_count": 48,
   "id": "272cfaf1-829e-45c0-9d66-61e439d47984",
   "metadata": {},
   "outputs": [
    {
     "name": "stdout",
     "output_type": "stream",
     "text": [
      "GPP -5.0%\n",
      "AR -2.3%\n",
      "HR -9.7%\n",
      "TLAI -6.5%\n",
      "TOTVEGC -2.4%\n",
      "TOTSOMC -5.1%\n",
      "EFLX_LH_TOT -1.5%\n",
      "SNOWDP +0.0%\n",
      "SOILWATER_10CM +0.5%\n"
     ]
    }
   ],
   "source": [
    "for v in dvs:\n",
    "    x=gmean(amean(ds[v]),la).mean(dim='year')\n",
    "    dx=x[0]/x[1]\n",
    "    p=''\n",
    "    if dx>1:p='+'\n",
    "    print(v,p+str(np.round(100*dx.values-100,1))+'%')"
   ]
  },
  {
   "cell_type": "code",
   "execution_count": 100,
   "id": "86fb79ff-f06a-492a-a36d-0b94b114fee8",
   "metadata": {},
   "outputs": [],
   "source": []
  },
  {
   "cell_type": "code",
   "execution_count": null,
   "id": "72981e31-1d82-4b2f-abbb-a48fb578466e",
   "metadata": {},
   "outputs": [],
   "source": []
  }
 ],
 "metadata": {
  "kernelspec": {
   "display_name": "Python [conda env:miniconda3-ppe-py]",
   "language": "python",
   "name": "conda-env-miniconda3-ppe-py-py"
  },
  "language_info": {
   "codemirror_mode": {
    "name": "ipython",
    "version": 3
   },
   "file_extension": ".py",
   "mimetype": "text/x-python",
   "name": "python",
   "nbconvert_exporter": "python",
   "pygments_lexer": "ipython3",
   "version": "3.11.4"
  }
 },
 "nbformat": 4,
 "nbformat_minor": 5
}
